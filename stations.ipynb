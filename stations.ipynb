{
 "cells": [
  {
   "cell_type": "code",
   "execution_count": 3,
   "metadata": {},
   "outputs": [],
   "source": [
    "import numpy as np\n",
    "import pandas as pd\n",
    "import math"
   ]
  },
  {
   "cell_type": "code",
   "execution_count": 4,
   "metadata": {},
   "outputs": [],
   "source": [
    "def pick_up(value,top):\n",
    "    p=value\n",
    "    df=pd.read_csv(\"E:/bike sharing system/bike sharing code/bikesharin.csv\")\n",
    "    df.dropna(inplace=True)\n",
    "    x=list(df['pos1'].values)\n",
    "    y=list(df['pos2'].values)\n",
    "    points=list(zip(x,y))\n",
    "    distance=[] \n",
    "    for group in points:\n",
    "        euclidean_distance = math.sqrt((group[0]-p[0])**2 +(group[1]-p[1])**2) \n",
    "        distance.append((euclidean_distance))\n",
    "    df['distance']=distance\n",
    "    df=df[df['distance']<=5] \n",
    "    df=df[df['stock']!=0]\n",
    "    \n",
    "    df=df.sort_values('distance')\n",
    "    return df.head(top)\n"
   ]
  },
  {
   "cell_type": "code",
   "execution_count": 5,
   "metadata": {},
   "outputs": [
    {
     "data": {
      "text/html": [
       "<div>\n",
       "<style scoped>\n",
       "    .dataframe tbody tr th:only-of-type {\n",
       "        vertical-align: middle;\n",
       "    }\n",
       "\n",
       "    .dataframe tbody tr th {\n",
       "        vertical-align: top;\n",
       "    }\n",
       "\n",
       "    .dataframe thead th {\n",
       "        text-align: right;\n",
       "    }\n",
       "</style>\n",
       "<table border=\"1\" class=\"dataframe\">\n",
       "  <thead>\n",
       "    <tr style=\"text-align: right;\">\n",
       "      <th></th>\n",
       "      <th>pos1</th>\n",
       "      <th>pos2</th>\n",
       "      <th>time</th>\n",
       "      <th>station</th>\n",
       "      <th>location</th>\n",
       "      <th>stationcapacity</th>\n",
       "      <th>stock</th>\n",
       "      <th>distance</th>\n",
       "    </tr>\n",
       "  </thead>\n",
       "  <tbody>\n",
       "    <tr>\n",
       "      <th>0</th>\n",
       "      <td>1</td>\n",
       "      <td>2</td>\n",
       "      <td>10:00</td>\n",
       "      <td>nampally</td>\n",
       "      <td>hyderabad</td>\n",
       "      <td>80</td>\n",
       "      <td>2</td>\n",
       "      <td>1.414214</td>\n",
       "    </tr>\n",
       "    <tr>\n",
       "      <th>4</th>\n",
       "      <td>3</td>\n",
       "      <td>1</td>\n",
       "      <td>14:00</td>\n",
       "      <td>RK nagar</td>\n",
       "      <td>hyderabad</td>\n",
       "      <td>60</td>\n",
       "      <td>32</td>\n",
       "      <td>2.236068</td>\n",
       "    </tr>\n",
       "    <tr>\n",
       "      <th>8</th>\n",
       "      <td>1</td>\n",
       "      <td>5</td>\n",
       "      <td>18:00</td>\n",
       "      <td>Erragadda</td>\n",
       "      <td>hyderabad</td>\n",
       "      <td>70</td>\n",
       "      <td>55</td>\n",
       "      <td>2.236068</td>\n",
       "    </tr>\n",
       "    <tr>\n",
       "      <th>12</th>\n",
       "      <td>5</td>\n",
       "      <td>5</td>\n",
       "      <td>22:00</td>\n",
       "      <td>Banjarahills</td>\n",
       "      <td>hyderabad</td>\n",
       "      <td>50</td>\n",
       "      <td>45</td>\n",
       "      <td>3.605551</td>\n",
       "    </tr>\n",
       "  </tbody>\n",
       "</table>\n",
       "</div>"
      ],
      "text/plain": [
       "    pos1  pos2  time        station   location  stationcapacity  stock  \\\n",
       "0      1     2  10:00      nampally  hyderabad               80      2   \n",
       "4      3     1  14:00      RK nagar  hyderabad               60     32   \n",
       "8      1     5  18:00     Erragadda  hyderabad               70     55   \n",
       "12     5     5  22:00  Banjarahills  hyderabad               50     45   \n",
       "\n",
       "    distance  \n",
       "0   1.414214  \n",
       "4   2.236068  \n",
       "8   2.236068  \n",
       "12  3.605551  "
      ]
     },
     "execution_count": 5,
     "metadata": {},
     "output_type": "execute_result"
    }
   ],
   "source": [
    "pick_up((2,3),4)"
   ]
  },
  {
   "cell_type": "code",
   "execution_count": 11,
   "metadata": {},
   "outputs": [],
   "source": [
    "def drop(value,top):\n",
    "    p=value\n",
    "    df=pd.read_csv(\"E:/bike sharing system/bike sharing code/bikesharin.csv\")\n",
    "    df.dropna(inplace=True)\n",
    "    x=list(df['pos1'].values)\n",
    "    y=list(df['pos2'].values)\n",
    "    points=list(zip(x,y))\n",
    "    distance=[] \n",
    "    for group in points:\n",
    "        euclidean_distance = math.sqrt((group[0]-p[0])**2 +(group[1]-p[1])**2) \n",
    "        distance.append((euclidean_distance))\n",
    "    df['distance']=distance\n",
    "    df=df[df['distance']<=5] \n",
    "    df=df[df['stock']!=df['stationcapacity']]\n",
    "    df=df.sort_values('distance')\n",
    "    return df.head(top)\n"
   ]
  },
  {
   "cell_type": "code",
   "execution_count": 12,
   "metadata": {},
   "outputs": [
    {
     "data": {
      "text/html": [
       "<div>\n",
       "<style scoped>\n",
       "    .dataframe tbody tr th:only-of-type {\n",
       "        vertical-align: middle;\n",
       "    }\n",
       "\n",
       "    .dataframe tbody tr th {\n",
       "        vertical-align: top;\n",
       "    }\n",
       "\n",
       "    .dataframe thead th {\n",
       "        text-align: right;\n",
       "    }\n",
       "</style>\n",
       "<table border=\"1\" class=\"dataframe\">\n",
       "  <thead>\n",
       "    <tr style=\"text-align: right;\">\n",
       "      <th></th>\n",
       "      <th>pos1</th>\n",
       "      <th>pos2</th>\n",
       "      <th>time</th>\n",
       "      <th>station</th>\n",
       "      <th>location</th>\n",
       "      <th>stationcapacity</th>\n",
       "      <th>stock</th>\n",
       "      <th>distance</th>\n",
       "    </tr>\n",
       "  </thead>\n",
       "  <tbody>\n",
       "    <tr>\n",
       "      <th>15</th>\n",
       "      <td>10</td>\n",
       "      <td>3</td>\n",
       "      <td>1:00</td>\n",
       "      <td>Stadium</td>\n",
       "      <td>hyderabad</td>\n",
       "      <td>30</td>\n",
       "      <td>15</td>\n",
       "      <td>3.605551</td>\n",
       "    </tr>\n",
       "    <tr>\n",
       "      <th>5</th>\n",
       "      <td>8</td>\n",
       "      <td>5</td>\n",
       "      <td>15:00</td>\n",
       "      <td>kukatpally</td>\n",
       "      <td>hyderabad</td>\n",
       "      <td>30</td>\n",
       "      <td>5</td>\n",
       "      <td>5.000000</td>\n",
       "    </tr>\n",
       "  </tbody>\n",
       "</table>\n",
       "</div>"
      ],
      "text/plain": [
       "    pos1  pos2  time      station   location  stationcapacity  stock  distance\n",
       "15    10     3   1:00     Stadium  hyderabad               30     15  3.605551\n",
       "5      8     5  15:00  kukatpally  hyderabad               30      5  5.000000"
      ]
     },
     "execution_count": 12,
     "metadata": {},
     "output_type": "execute_result"
    }
   ],
   "source": [
    "drop((13,5),2)"
   ]
  },
  {
   "cell_type": "code",
   "execution_count": null,
   "metadata": {},
   "outputs": [],
   "source": []
  }
 ],
 "metadata": {
  "kernelspec": {
   "display_name": "Python 3",
   "language": "python",
   "name": "python3"
  },
  "language_info": {
   "codemirror_mode": {
    "name": "ipython",
    "version": 3
   },
   "file_extension": ".py",
   "mimetype": "text/x-python",
   "name": "python",
   "nbconvert_exporter": "python",
   "pygments_lexer": "ipython3",
   "version": "3.7.1"
  }
 },
 "nbformat": 4,
 "nbformat_minor": 2
}
